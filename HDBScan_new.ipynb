{
 "cells": [
  {
   "cell_type": "code",
   "execution_count": 1,
   "id": "d2fd8881-dd78-47dd-b3d4-5a6945ac1f13",
   "metadata": {},
   "outputs": [
    {
     "name": "stdout",
     "output_type": "stream",
     "text": [
      "Collecting hdbscan\n",
      "  Using cached hdbscan-0.8.33.tar.gz (5.2 MB)\n",
      "  Installing build dependencies: started\n",
      "  Installing build dependencies: finished with status 'done'\n",
      "  Getting requirements to build wheel: started\n",
      "  Getting requirements to build wheel: finished with status 'done'\n",
      "  Preparing metadata (pyproject.toml): started\n",
      "  Preparing metadata (pyproject.toml): finished with status 'done'\n",
      "Collecting cython<3,>=0.27 (from hdbscan)\n",
      "  Using cached Cython-0.29.37-py2.py3-none-any.whl.metadata (3.1 kB)\n",
      "Requirement already satisfied: numpy>=1.20 in c:\\users\\prabakaran j\\.conda\\envs\\veai\\lib\\site-packages (from hdbscan) (1.26.4)\n",
      "Requirement already satisfied: scipy>=1.0 in c:\\users\\prabakaran j\\.conda\\envs\\veai\\lib\\site-packages (from hdbscan) (1.12.0)\n",
      "Requirement already satisfied: scikit-learn>=0.20 in c:\\users\\prabakaran j\\.conda\\envs\\veai\\lib\\site-packages (from hdbscan) (1.4.1.post1)\n",
      "Requirement already satisfied: joblib>=1.0 in c:\\users\\prabakaran j\\.conda\\envs\\veai\\lib\\site-packages (from hdbscan) (1.3.2)\n",
      "Requirement already satisfied: threadpoolctl>=2.0.0 in c:\\users\\prabakaran j\\.conda\\envs\\veai\\lib\\site-packages (from scikit-learn>=0.20->hdbscan) (3.3.0)\n",
      "Using cached Cython-0.29.37-py2.py3-none-any.whl (989 kB)\n",
      "Building wheels for collected packages: hdbscan\n",
      "  Building wheel for hdbscan (pyproject.toml): started\n",
      "  Building wheel for hdbscan (pyproject.toml): finished with status 'error'\n",
      "Failed to build hdbscan\n"
     ]
    },
    {
     "name": "stderr",
     "output_type": "stream",
     "text": [
      "  error: subprocess-exited-with-error\n",
      "  \n",
      "  × Building wheel for hdbscan (pyproject.toml) did not run successfully.\n",
      "  │ exit code: 1\n",
      "  ╰─> [40 lines of output]\n",
      "      running bdist_wheel\n",
      "      running build\n",
      "      running build_py\n",
      "      creating build\n",
      "      creating build\\lib.win-amd64-cpython-311\n",
      "      creating build\\lib.win-amd64-cpython-311\\hdbscan\n",
      "      copying hdbscan\\flat.py -> build\\lib.win-amd64-cpython-311\\hdbscan\n",
      "      copying hdbscan\\hdbscan_.py -> build\\lib.win-amd64-cpython-311\\hdbscan\n",
      "      copying hdbscan\\plots.py -> build\\lib.win-amd64-cpython-311\\hdbscan\n",
      "      copying hdbscan\\prediction.py -> build\\lib.win-amd64-cpython-311\\hdbscan\n",
      "      copying hdbscan\\robust_single_linkage_.py -> build\\lib.win-amd64-cpython-311\\hdbscan\n",
      "      copying hdbscan\\validity.py -> build\\lib.win-amd64-cpython-311\\hdbscan\n",
      "      copying hdbscan\\__init__.py -> build\\lib.win-amd64-cpython-311\\hdbscan\n",
      "      creating build\\lib.win-amd64-cpython-311\\hdbscan\\tests\n",
      "      copying hdbscan\\tests\\test_flat.py -> build\\lib.win-amd64-cpython-311\\hdbscan\\tests\n",
      "      copying hdbscan\\tests\\test_hdbscan.py -> build\\lib.win-amd64-cpython-311\\hdbscan\\tests\n",
      "      copying hdbscan\\tests\\test_prediction_utils.py -> build\\lib.win-amd64-cpython-311\\hdbscan\\tests\n",
      "      copying hdbscan\\tests\\test_rsl.py -> build\\lib.win-amd64-cpython-311\\hdbscan\\tests\n",
      "      copying hdbscan\\tests\\__init__.py -> build\\lib.win-amd64-cpython-311\\hdbscan\\tests\n",
      "      running build_ext\n",
      "      cythoning hdbscan/_hdbscan_tree.pyx to hdbscan\\_hdbscan_tree.c\n",
      "      C:\\Users\\Prabakaran J\\AppData\\Local\\Temp\\pip-build-env-cnd8a5ao\\overlay\\Lib\\site-packages\\Cython\\Compiler\\Main.py:369: FutureWarning: Cython directive 'language_level' not set, using 2 for now (Py2). This will change in a later release! File: C:\\Users\\Prabakaran J\\AppData\\Local\\Temp\\pip-install-3yl_x6s4\\hdbscan_f19572c50a314a929f8d814aa57a5551\\hdbscan\\_hdbscan_tree.pyx\n",
      "        tree = Parsing.p_module(s, pxd, full_module_name)\n",
      "      cythoning hdbscan/_hdbscan_linkage.pyx to hdbscan\\_hdbscan_linkage.c\n",
      "      C:\\Users\\Prabakaran J\\AppData\\Local\\Temp\\pip-build-env-cnd8a5ao\\overlay\\Lib\\site-packages\\Cython\\Compiler\\Main.py:369: FutureWarning: Cython directive 'language_level' not set, using 2 for now (Py2). This will change in a later release! File: C:\\Users\\Prabakaran J\\AppData\\Local\\Temp\\pip-install-3yl_x6s4\\hdbscan_f19572c50a314a929f8d814aa57a5551\\hdbscan\\_hdbscan_linkage.pyx\n",
      "        tree = Parsing.p_module(s, pxd, full_module_name)\n",
      "      cythoning hdbscan/_hdbscan_boruvka.pyx to hdbscan\\_hdbscan_boruvka.c\n",
      "      C:\\Users\\Prabakaran J\\AppData\\Local\\Temp\\pip-build-env-cnd8a5ao\\overlay\\Lib\\site-packages\\Cython\\Compiler\\Main.py:369: FutureWarning: Cython directive 'language_level' not set, using 2 for now (Py2). This will change in a later release! File: C:\\Users\\Prabakaran J\\AppData\\Local\\Temp\\pip-install-3yl_x6s4\\hdbscan_f19572c50a314a929f8d814aa57a5551\\hdbscan\\_hdbscan_boruvka.pyx\n",
      "        tree = Parsing.p_module(s, pxd, full_module_name)\n",
      "      cythoning hdbscan/_hdbscan_reachability.pyx to hdbscan\\_hdbscan_reachability.c\n",
      "      C:\\Users\\Prabakaran J\\AppData\\Local\\Temp\\pip-build-env-cnd8a5ao\\overlay\\Lib\\site-packages\\Cython\\Compiler\\Main.py:369: FutureWarning: Cython directive 'language_level' not set, using 2 for now (Py2). This will change in a later release! File: C:\\Users\\Prabakaran J\\AppData\\Local\\Temp\\pip-install-3yl_x6s4\\hdbscan_f19572c50a314a929f8d814aa57a5551\\hdbscan\\_hdbscan_reachability.pyx\n",
      "        tree = Parsing.p_module(s, pxd, full_module_name)\n",
      "      cythoning hdbscan/_prediction_utils.pyx to hdbscan\\_prediction_utils.c\n",
      "      C:\\Users\\Prabakaran J\\AppData\\Local\\Temp\\pip-build-env-cnd8a5ao\\overlay\\Lib\\site-packages\\Cython\\Compiler\\Main.py:369: FutureWarning: Cython directive 'language_level' not set, using 2 for now (Py2). This will change in a later release! File: C:\\Users\\Prabakaran J\\AppData\\Local\\Temp\\pip-install-3yl_x6s4\\hdbscan_f19572c50a314a929f8d814aa57a5551\\hdbscan\\_prediction_utils.pyx\n",
      "        tree = Parsing.p_module(s, pxd, full_module_name)\n",
      "      cythoning hdbscan/dist_metrics.pyx to hdbscan\\dist_metrics.c\n",
      "      C:\\Users\\Prabakaran J\\AppData\\Local\\Temp\\pip-build-env-cnd8a5ao\\overlay\\Lib\\site-packages\\Cython\\Compiler\\Main.py:369: FutureWarning: Cython directive 'language_level' not set, using 2 for now (Py2). This will change in a later release! File: C:\\Users\\Prabakaran J\\AppData\\Local\\Temp\\pip-install-3yl_x6s4\\hdbscan_f19572c50a314a929f8d814aa57a5551\\hdbscan\\dist_metrics.pxd\n",
      "        tree = Parsing.p_module(s, pxd, full_module_name)\n",
      "      building 'hdbscan._hdbscan_tree' extension\n",
      "      error: Microsoft Visual C++ 14.0 or greater is required. Get it with \"Microsoft C++ Build Tools\": https://visualstudio.microsoft.com/visual-cpp-build-tools/\n",
      "      [end of output]\n",
      "  \n",
      "  note: This error originates from a subprocess, and is likely not a problem with pip.\n",
      "  ERROR: Failed building wheel for hdbscan\n",
      "ERROR: Could not build wheels for hdbscan, which is required to install pyproject.toml-based projects\n"
     ]
    }
   ],
   "source": [
    "!pip install hdbscan"
   ]
  },
  {
   "cell_type": "code",
   "execution_count": 2,
   "id": "f56832f0-e414-4989-ae92-25f1320dfb1f",
   "metadata": {},
   "outputs": [
    {
     "ename": "ModuleNotFoundError",
     "evalue": "No module named 'hdbscan'",
     "output_type": "error",
     "traceback": [
      "\u001b[1;31m---------------------------------------------------------------------------\u001b[0m",
      "\u001b[1;31mModuleNotFoundError\u001b[0m                       Traceback (most recent call last)",
      "Cell \u001b[1;32mIn[2], line 5\u001b[0m\n\u001b[0;32m      3\u001b[0m \u001b[38;5;28;01mimport\u001b[39;00m \u001b[38;5;21;01mmatplotlib\u001b[39;00m\u001b[38;5;21;01m.\u001b[39;00m\u001b[38;5;21;01mpyplot\u001b[39;00m \u001b[38;5;28;01mas\u001b[39;00m \u001b[38;5;21;01mplt\u001b[39;00m\n\u001b[0;32m      4\u001b[0m \u001b[38;5;28;01mimport\u001b[39;00m \u001b[38;5;21;01mseaborn\u001b[39;00m \u001b[38;5;28;01mas\u001b[39;00m \u001b[38;5;21;01msns\u001b[39;00m\n\u001b[1;32m----> 5\u001b[0m \u001b[38;5;28;01mimport\u001b[39;00m \u001b[38;5;21;01mhdbscan\u001b[39;00m\n\u001b[0;32m      6\u001b[0m \u001b[38;5;28;01mfrom\u001b[39;00m \u001b[38;5;21;01msklearn\u001b[39;00m\u001b[38;5;21;01m.\u001b[39;00m\u001b[38;5;21;01mpreprocessing\u001b[39;00m \u001b[38;5;28;01mimport\u001b[39;00m StandardScaler\n\u001b[0;32m      8\u001b[0m \u001b[38;5;66;03m# Load the data\u001b[39;00m\n",
      "\u001b[1;31mModuleNotFoundError\u001b[0m: No module named 'hdbscan'"
     ]
    }
   ],
   "source": [
    "import pandas as pd\n",
    "import numpy as np\n",
    "import matplotlib.pyplot as plt\n",
    "import seaborn as sns\n",
    "import hdbscan\n",
    "from sklearn.preprocessing import StandardScaler\n",
    "\n",
    "# Load the data\n",
    "data = pd.read_csv('Mall_Customers.csv')\n",
    "\n",
    "# Select features (let's assume 'Annual Income (k$)' and 'Spending Score (1-100)')\n",
    "X = data[['Annual Income (k$)', 'Spending Score (1-100)']]\n",
    "\n",
    "# Standardize the features\n",
    "scaler = StandardScaler()\n",
    "X_scaled = scaler.fit_transform(X)\n",
    "\n",
    "# Apply HDBSCAN\n",
    "clusterer = hdbscan.HDBSCAN(min_cluster_size=5)\n",
    "cluster_labels = clusterer.fit_predict(X_scaled)\n",
    "\n",
    "# Plotting the clusters\n",
    "plt.figure(figsize=(8, 6))\n",
    "sns.scatterplot(x='Annual Income (k$)', y='Spending Score (1-100)', data=data, hue=cluster_labels, palette='viridis')\n",
    "plt.title('HDBSCAN Clustering')\n",
    "plt.xlabel('Annual Income (k$)')\n",
    "plt.ylabel('Spending Score (1-100)')\n",
    "plt.legend(loc='upper right')\n",
    "plt.show()"
   ]
  },
  {
   "cell_type": "code",
   "execution_count": 3,
   "id": "116456f8-1eb6-479e-8bf2-2f2c155933c9",
   "metadata": {},
   "outputs": [
    {
     "name": "stdout",
     "output_type": "stream",
     "text": [
      "Collecting cython\n",
      "  Downloading Cython-3.0.9-cp311-cp311-win_amd64.whl.metadata (3.2 kB)\n",
      "Requirement already satisfied: scipy in c:\\users\\prabakaran j\\.conda\\envs\\veai\\lib\\site-packages (1.12.0)\n",
      "Requirement already satisfied: numpy<1.29.0,>=1.22.4 in c:\\users\\prabakaran j\\.conda\\envs\\veai\\lib\\site-packages (from scipy) (1.26.4)\n",
      "Downloading Cython-3.0.9-cp311-cp311-win_amd64.whl (2.8 MB)\n",
      "   ---------------------------------------- 0.0/2.8 MB ? eta -:--:--\n",
      "   ---------------------------------------- 0.0/2.8 MB ? eta -:--:--\n",
      "    --------------------------------------- 0.0/2.8 MB 495.5 kB/s eta 0:00:06\n",
      "   -- ------------------------------------- 0.2/2.8 MB 1.1 MB/s eta 0:00:03\n",
      "   ---------- ----------------------------- 0.7/2.8 MB 4.5 MB/s eta 0:00:01\n",
      "   --------------------- ------------------ 1.5/2.8 MB 7.4 MB/s eta 0:00:01\n",
      "   ---------------------------------------  2.8/2.8 MB 11.1 MB/s eta 0:00:01\n",
      "   ---------------------------------------  2.8/2.8 MB 11.1 MB/s eta 0:00:01\n",
      "   ---------------------------------------  2.8/2.8 MB 11.1 MB/s eta 0:00:01\n",
      "   ---------------------------------------  2.8/2.8 MB 11.1 MB/s eta 0:00:01\n",
      "   ---------------------------------------  2.8/2.8 MB 11.1 MB/s eta 0:00:01\n",
      "   ---------------------------------------  2.8/2.8 MB 11.1 MB/s eta 0:00:01\n",
      "   ---------------------------------------  2.8/2.8 MB 11.1 MB/s eta 0:00:01\n",
      "   ---------------------------------------  2.8/2.8 MB 11.1 MB/s eta 0:00:01\n",
      "   ---------------------------------------  2.8/2.8 MB 11.1 MB/s eta 0:00:01\n",
      "   ---------------------------------------  2.8/2.8 MB 11.1 MB/s eta 0:00:01\n",
      "   ---------------------------------------  2.8/2.8 MB 11.1 MB/s eta 0:00:01\n",
      "   ---------------------------------------  2.8/2.8 MB 11.1 MB/s eta 0:00:01\n",
      "   ---------------------------------------  2.8/2.8 MB 11.1 MB/s eta 0:00:01\n",
      "   ---------------------------------------  2.8/2.8 MB 11.1 MB/s eta 0:00:01\n",
      "   ---------------------------------------  2.8/2.8 MB 11.1 MB/s eta 0:00:01\n",
      "   ---------------------------------------  2.8/2.8 MB 11.1 MB/s eta 0:00:01\n",
      "   ---------------------------------------  2.8/2.8 MB 11.1 MB/s eta 0:00:01\n",
      "   ---------------------------------------  2.8/2.8 MB 11.1 MB/s eta 0:00:01\n",
      "   ---------------------------------------  2.8/2.8 MB 11.1 MB/s eta 0:00:01\n",
      "   ---------------------------------------  2.8/2.8 MB 11.1 MB/s eta 0:00:01\n",
      "   ---------------------------------------  2.8/2.8 MB 11.1 MB/s eta 0:00:01\n",
      "   ---------------------------------------  2.8/2.8 MB 11.1 MB/s eta 0:00:01\n",
      "   ---------------------------------------  2.8/2.8 MB 11.1 MB/s eta 0:00:01\n",
      "   ---------------------------------------  2.8/2.8 MB 11.1 MB/s eta 0:00:01\n",
      "   ---------------------------------------  2.8/2.8 MB 11.1 MB/s eta 0:00:01\n",
      "   ---------------------------------------  2.8/2.8 MB 11.1 MB/s eta 0:00:01\n",
      "   ---------------------------------------  2.8/2.8 MB 11.1 MB/s eta 0:00:01\n",
      "   ---------------------------------------  2.8/2.8 MB 11.1 MB/s eta 0:00:01\n",
      "   ---------------------------------------  2.8/2.8 MB 11.1 MB/s eta 0:00:01\n",
      "   ---------------------------------------  2.8/2.8 MB 11.1 MB/s eta 0:00:01\n",
      "   ---------------------------------------  2.8/2.8 MB 11.1 MB/s eta 0:00:01\n",
      "   ---------------------------------------  2.8/2.8 MB 11.1 MB/s eta 0:00:01\n",
      "   ---------------------------------------  2.8/2.8 MB 11.1 MB/s eta 0:00:01\n",
      "   ---------------------------------------  2.8/2.8 MB 11.1 MB/s eta 0:00:01\n",
      "   ---------------------------------------  2.8/2.8 MB 11.1 MB/s eta 0:00:01\n",
      "   ---------------------------------------  2.8/2.8 MB 11.1 MB/s eta 0:00:01\n",
      "   ---------------------------------------  2.8/2.8 MB 11.1 MB/s eta 0:00:01\n",
      "   ---------------------------------------  2.8/2.8 MB 11.1 MB/s eta 0:00:01\n",
      "   ---------------------------------------  2.8/2.8 MB 11.1 MB/s eta 0:00:01\n",
      "   ---------------------------------------  2.8/2.8 MB 11.1 MB/s eta 0:00:01\n",
      "   ---------------------------------------  2.8/2.8 MB 11.1 MB/s eta 0:00:01\n",
      "   ---------------------------------------  2.8/2.8 MB 11.1 MB/s eta 0:00:01\n",
      "   ---------------------------------------  2.8/2.8 MB 11.1 MB/s eta 0:00:01\n",
      "   ---------------------------------------  2.8/2.8 MB 11.1 MB/s eta 0:00:01\n",
      "   ---------------------------------------  2.8/2.8 MB 11.1 MB/s eta 0:00:01\n",
      "   ---------------------------------------  2.8/2.8 MB 11.1 MB/s eta 0:00:01\n",
      "   ---------------------------------------  2.8/2.8 MB 11.1 MB/s eta 0:00:01\n",
      "   ---------------------------------------  2.8/2.8 MB 11.1 MB/s eta 0:00:01\n",
      "   ---------------------------------------  2.8/2.8 MB 11.1 MB/s eta 0:00:01\n",
      "   ---------------------------------------  2.8/2.8 MB 11.1 MB/s eta 0:00:01\n",
      "   ---------------------------------------  2.8/2.8 MB 11.1 MB/s eta 0:00:01\n",
      "   ---------------------------------------  2.8/2.8 MB 11.1 MB/s eta 0:00:01\n",
      "   ---------------------------------------  2.8/2.8 MB 11.1 MB/s eta 0:00:01\n",
      "   ---------------------------------------  2.8/2.8 MB 11.1 MB/s eta 0:00:01\n",
      "   ---------------------------------------  2.8/2.8 MB 11.1 MB/s eta 0:00:01\n",
      "   ---------------------------------------  2.8/2.8 MB 11.1 MB/s eta 0:00:01\n",
      "   ---------------------------------------  2.8/2.8 MB 11.1 MB/s eta 0:00:01\n",
      "   ---------------------------------------  2.8/2.8 MB 11.1 MB/s eta 0:00:01\n",
      "   ---------------------------------------  2.8/2.8 MB 11.1 MB/s eta 0:00:01\n",
      "   ---------------------------------------  2.8/2.8 MB 11.1 MB/s eta 0:00:01\n",
      "   ---------------------------------------  2.8/2.8 MB 11.1 MB/s eta 0:00:01\n",
      "   ---------------------------------------  2.8/2.8 MB 11.1 MB/s eta 0:00:01\n",
      "   ---------------------------------------  2.8/2.8 MB 11.1 MB/s eta 0:00:01\n",
      "   ---------------------------------------- 2.8/2.8 MB 875.5 kB/s eta 0:00:00\n",
      "Installing collected packages: cython\n",
      "Successfully installed cython-3.0.9\n"
     ]
    }
   ],
   "source": [
    "!pip install cython scipy"
   ]
  },
  {
   "cell_type": "code",
   "execution_count": 4,
   "id": "31abc340-c7ee-4866-8117-0b3089b9556b",
   "metadata": {},
   "outputs": [
    {
     "name": "stdout",
     "output_type": "stream",
     "text": [
      "Requirement already satisfied: pip in c:\\users\\prabakaran j\\.conda\\envs\\veai\\lib\\site-packages (23.3.1)\n",
      "Collecting pip\n",
      "  Downloading pip-24.0-py3-none-any.whl.metadata (3.6 kB)\n",
      "Requirement already satisfied: setuptools in c:\\users\\prabakaran j\\.conda\\envs\\veai\\lib\\site-packages (68.2.2)\n",
      "Collecting setuptools\n",
      "  Using cached setuptools-69.2.0-py3-none-any.whl.metadata (6.3 kB)\n",
      "Downloading pip-24.0-py3-none-any.whl (2.1 MB)\n",
      "   ---------------------------------------- 0.0/2.1 MB ? eta -:--:--\n",
      "   ---------------------------------------- 0.0/2.1 MB ? eta -:--:--\n",
      "   - -------------------------------------- 0.1/2.1 MB 825.8 kB/s eta 0:00:03\n",
      "   ---- ----------------------------------- 0.2/2.1 MB 2.2 MB/s eta 0:00:01\n",
      "   ---------------------- ----------------- 1.2/2.1 MB 7.6 MB/s eta 0:00:01\n",
      "   ---------------------------------------  2.1/2.1 MB 11.2 MB/s eta 0:00:01\n",
      "   ---------------------------------------  2.1/2.1 MB 11.2 MB/s eta 0:00:01\n",
      "   ---------------------------------------  2.1/2.1 MB 11.2 MB/s eta 0:00:01\n",
      "   ---------------------------------------  2.1/2.1 MB 11.2 MB/s eta 0:00:01\n",
      "   ---------------------------------------  2.1/2.1 MB 11.2 MB/s eta 0:00:01\n",
      "   ---------------------------------------  2.1/2.1 MB 11.2 MB/s eta 0:00:01\n",
      "   ---------------------------------------  2.1/2.1 MB 11.2 MB/s eta 0:00:01\n",
      "   ---------------------------------------  2.1/2.1 MB 11.2 MB/s eta 0:00:01\n",
      "   ---------------------------------------  2.1/2.1 MB 11.2 MB/s eta 0:00:01\n",
      "   ---------------------------------------  2.1/2.1 MB 11.2 MB/s eta 0:00:01\n",
      "   ---------------------------------------  2.1/2.1 MB 11.2 MB/s eta 0:00:01\n",
      "   ---------------------------------------- 2.1/2.1 MB 3.1 MB/s eta 0:00:00\n",
      "Using cached setuptools-69.2.0-py3-none-any.whl (821 kB)\n"
     ]
    },
    {
     "name": "stderr",
     "output_type": "stream",
     "text": [
      "ERROR: To modify pip, please run the following command:\n",
      "C:\\Users\\Prabakaran J\\.conda\\envs\\VEAI\\python.exe -m pip install --upgrade pip setuptools\n"
     ]
    }
   ],
   "source": [
    "!pip install --upgrade pip setuptools"
   ]
  },
  {
   "cell_type": "code",
   "execution_count": 5,
   "id": "e68e4a8f-6298-454a-b4dc-2ca2f39b911c",
   "metadata": {},
   "outputs": [
    {
     "name": "stderr",
     "output_type": "stream",
     "text": [
      "\n",
      "Usage:   \n",
      "  pip install [options] <requirement specifier> [package-index-options] ...\n",
      "  pip install [options] -r <requirements file> [package-index-options] ...\n",
      "  pip install [options] [-e] <vcs project url> ...\n",
      "  pip install [options] [-e] <local project path> ...\n",
      "  pip install [options] <archive url/path> ...\n",
      "\n",
      "no such option: --install-option\n"
     ]
    }
   ],
   "source": [
    "!pip install hdbscan --install-option=\"--no-binary\""
   ]
  },
  {
   "cell_type": "code",
   "execution_count": 7,
   "id": "785dba3f-da4c-43bf-853e-9c0555831f3f",
   "metadata": {},
   "outputs": [
    {
     "name": "stdout",
     "output_type": "stream",
     "text": [
      "^C\n"
     ]
    }
   ],
   "source": [
    "!conda install -c conda-forge hdbscan"
   ]
  },
  {
   "cell_type": "code",
   "execution_count": 8,
   "id": "9024ce86-f3d8-4765-ac41-75858363a2d4",
   "metadata": {},
   "outputs": [
    {
     "name": "stdout",
     "output_type": "stream",
     "text": [
      "Collecting hdbscan\n",
      "  Using cached hdbscan-0.8.33.tar.gz (5.2 MB)\n",
      "  Installing build dependencies: started\n",
      "  Installing build dependencies: finished with status 'done'\n",
      "  Getting requirements to build wheel: started\n",
      "  Getting requirements to build wheel: finished with status 'done'\n",
      "  Preparing metadata (pyproject.toml): started\n",
      "  Preparing metadata (pyproject.toml): finished with status 'done'\n",
      "Collecting cython<3,>=0.27 (from hdbscan)\n",
      "  Using cached Cython-0.29.37-py2.py3-none-any.whl.metadata (3.1 kB)\n",
      "Requirement already satisfied: numpy>=1.20 in c:\\users\\prabakaran j\\.conda\\envs\\veai\\lib\\site-packages (from hdbscan) (1.26.4)\n",
      "Requirement already satisfied: scipy>=1.0 in c:\\users\\prabakaran j\\.conda\\envs\\veai\\lib\\site-packages (from hdbscan) (1.12.0)\n",
      "Requirement already satisfied: scikit-learn>=0.20 in c:\\users\\prabakaran j\\.conda\\envs\\veai\\lib\\site-packages (from hdbscan) (1.4.1.post1)\n",
      "Requirement already satisfied: joblib>=1.0 in c:\\users\\prabakaran j\\.conda\\envs\\veai\\lib\\site-packages (from hdbscan) (1.3.2)\n",
      "Requirement already satisfied: threadpoolctl>=2.0.0 in c:\\users\\prabakaran j\\.conda\\envs\\veai\\lib\\site-packages (from scikit-learn>=0.20->hdbscan) (3.3.0)\n",
      "Using cached Cython-0.29.37-py2.py3-none-any.whl (989 kB)\n",
      "Building wheels for collected packages: hdbscan\n",
      "  Building wheel for hdbscan (pyproject.toml): started\n",
      "  Building wheel for hdbscan (pyproject.toml): finished with status 'error'\n",
      "Failed to build hdbscan\n"
     ]
    },
    {
     "name": "stderr",
     "output_type": "stream",
     "text": [
      "  error: subprocess-exited-with-error\n",
      "  \n",
      "  × Building wheel for hdbscan (pyproject.toml) did not run successfully.\n",
      "  │ exit code: 1\n",
      "  ╰─> [40 lines of output]\n",
      "      running bdist_wheel\n",
      "      running build\n",
      "      running build_py\n",
      "      creating build\n",
      "      creating build\\lib.win-amd64-cpython-311\n",
      "      creating build\\lib.win-amd64-cpython-311\\hdbscan\n",
      "      copying hdbscan\\flat.py -> build\\lib.win-amd64-cpython-311\\hdbscan\n",
      "      copying hdbscan\\hdbscan_.py -> build\\lib.win-amd64-cpython-311\\hdbscan\n",
      "      copying hdbscan\\plots.py -> build\\lib.win-amd64-cpython-311\\hdbscan\n",
      "      copying hdbscan\\prediction.py -> build\\lib.win-amd64-cpython-311\\hdbscan\n",
      "      copying hdbscan\\robust_single_linkage_.py -> build\\lib.win-amd64-cpython-311\\hdbscan\n",
      "      copying hdbscan\\validity.py -> build\\lib.win-amd64-cpython-311\\hdbscan\n",
      "      copying hdbscan\\__init__.py -> build\\lib.win-amd64-cpython-311\\hdbscan\n",
      "      creating build\\lib.win-amd64-cpython-311\\hdbscan\\tests\n",
      "      copying hdbscan\\tests\\test_flat.py -> build\\lib.win-amd64-cpython-311\\hdbscan\\tests\n",
      "      copying hdbscan\\tests\\test_hdbscan.py -> build\\lib.win-amd64-cpython-311\\hdbscan\\tests\n",
      "      copying hdbscan\\tests\\test_prediction_utils.py -> build\\lib.win-amd64-cpython-311\\hdbscan\\tests\n",
      "      copying hdbscan\\tests\\test_rsl.py -> build\\lib.win-amd64-cpython-311\\hdbscan\\tests\n",
      "      copying hdbscan\\tests\\__init__.py -> build\\lib.win-amd64-cpython-311\\hdbscan\\tests\n",
      "      running build_ext\n",
      "      cythoning hdbscan/_hdbscan_tree.pyx to hdbscan\\_hdbscan_tree.c\n",
      "      C:\\Users\\Prabakaran J\\AppData\\Local\\Temp\\pip-build-env-hhr1eta5\\overlay\\Lib\\site-packages\\Cython\\Compiler\\Main.py:369: FutureWarning: Cython directive 'language_level' not set, using 2 for now (Py2). This will change in a later release! File: C:\\Users\\Prabakaran J\\AppData\\Local\\Temp\\pip-install-oc7nn68w\\hdbscan_53127b5c80b44d089fa36c54b6130dcb\\hdbscan\\_hdbscan_tree.pyx\n",
      "        tree = Parsing.p_module(s, pxd, full_module_name)\n",
      "      cythoning hdbscan/_hdbscan_linkage.pyx to hdbscan\\_hdbscan_linkage.c\n",
      "      C:\\Users\\Prabakaran J\\AppData\\Local\\Temp\\pip-build-env-hhr1eta5\\overlay\\Lib\\site-packages\\Cython\\Compiler\\Main.py:369: FutureWarning: Cython directive 'language_level' not set, using 2 for now (Py2). This will change in a later release! File: C:\\Users\\Prabakaran J\\AppData\\Local\\Temp\\pip-install-oc7nn68w\\hdbscan_53127b5c80b44d089fa36c54b6130dcb\\hdbscan\\_hdbscan_linkage.pyx\n",
      "        tree = Parsing.p_module(s, pxd, full_module_name)\n",
      "      cythoning hdbscan/_hdbscan_boruvka.pyx to hdbscan\\_hdbscan_boruvka.c\n",
      "      C:\\Users\\Prabakaran J\\AppData\\Local\\Temp\\pip-build-env-hhr1eta5\\overlay\\Lib\\site-packages\\Cython\\Compiler\\Main.py:369: FutureWarning: Cython directive 'language_level' not set, using 2 for now (Py2). This will change in a later release! File: C:\\Users\\Prabakaran J\\AppData\\Local\\Temp\\pip-install-oc7nn68w\\hdbscan_53127b5c80b44d089fa36c54b6130dcb\\hdbscan\\_hdbscan_boruvka.pyx\n",
      "        tree = Parsing.p_module(s, pxd, full_module_name)\n",
      "      cythoning hdbscan/_hdbscan_reachability.pyx to hdbscan\\_hdbscan_reachability.c\n",
      "      C:\\Users\\Prabakaran J\\AppData\\Local\\Temp\\pip-build-env-hhr1eta5\\overlay\\Lib\\site-packages\\Cython\\Compiler\\Main.py:369: FutureWarning: Cython directive 'language_level' not set, using 2 for now (Py2). This will change in a later release! File: C:\\Users\\Prabakaran J\\AppData\\Local\\Temp\\pip-install-oc7nn68w\\hdbscan_53127b5c80b44d089fa36c54b6130dcb\\hdbscan\\_hdbscan_reachability.pyx\n",
      "        tree = Parsing.p_module(s, pxd, full_module_name)\n",
      "      cythoning hdbscan/_prediction_utils.pyx to hdbscan\\_prediction_utils.c\n",
      "      C:\\Users\\Prabakaran J\\AppData\\Local\\Temp\\pip-build-env-hhr1eta5\\overlay\\Lib\\site-packages\\Cython\\Compiler\\Main.py:369: FutureWarning: Cython directive 'language_level' not set, using 2 for now (Py2). This will change in a later release! File: C:\\Users\\Prabakaran J\\AppData\\Local\\Temp\\pip-install-oc7nn68w\\hdbscan_53127b5c80b44d089fa36c54b6130dcb\\hdbscan\\_prediction_utils.pyx\n",
      "        tree = Parsing.p_module(s, pxd, full_module_name)\n",
      "      cythoning hdbscan/dist_metrics.pyx to hdbscan\\dist_metrics.c\n",
      "      C:\\Users\\Prabakaran J\\AppData\\Local\\Temp\\pip-build-env-hhr1eta5\\overlay\\Lib\\site-packages\\Cython\\Compiler\\Main.py:369: FutureWarning: Cython directive 'language_level' not set, using 2 for now (Py2). This will change in a later release! File: C:\\Users\\Prabakaran J\\AppData\\Local\\Temp\\pip-install-oc7nn68w\\hdbscan_53127b5c80b44d089fa36c54b6130dcb\\hdbscan\\dist_metrics.pxd\n",
      "        tree = Parsing.p_module(s, pxd, full_module_name)\n",
      "      building 'hdbscan._hdbscan_tree' extension\n",
      "      error: Microsoft Visual C++ 14.0 or greater is required. Get it with \"Microsoft C++ Build Tools\": https://visualstudio.microsoft.com/visual-cpp-build-tools/\n",
      "      [end of output]\n",
      "  \n",
      "  note: This error originates from a subprocess, and is likely not a problem with pip.\n",
      "  ERROR: Failed building wheel for hdbscan\n",
      "ERROR: Could not build wheels for hdbscan, which is required to install pyproject.toml-based projects\n"
     ]
    }
   ],
   "source": [
    "!pip install hdbscan"
   ]
  },
  {
   "cell_type": "code",
   "execution_count": null,
   "id": "13fcfe84-893c-4ae7-ae2d-251b43daa3bb",
   "metadata": {},
   "outputs": [],
   "source": []
  }
 ],
 "metadata": {
  "kernelspec": {
   "display_name": "Python 3 (ipykernel)",
   "language": "python",
   "name": "python3"
  },
  "language_info": {
   "codemirror_mode": {
    "name": "ipython",
    "version": 3
   },
   "file_extension": ".py",
   "mimetype": "text/x-python",
   "name": "python",
   "nbconvert_exporter": "python",
   "pygments_lexer": "ipython3",
   "version": "3.11.7"
  }
 },
 "nbformat": 4,
 "nbformat_minor": 5
}
